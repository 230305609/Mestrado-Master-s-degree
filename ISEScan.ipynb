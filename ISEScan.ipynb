{
 "cells": [
  {
   "cell_type": "markdown",
   "metadata": {},
   "source": [
    "### https://github.com/xiezhq/ISEScan\n",
    "### O ISEScan é um pipeline python para identificar elementos IS (Sequência de Inserção) no genoma. Ele inclui uma opção para relatar elementos IS completos ou elementos IS completos e parciais. Pode ser uma boa ideia tentar relatar elementos IS completos e parciais quando ele é usado para identificar os elementos IS nas montagens do metagenoma. O ISEScan relata elementos IS completos e parciais por padrão.\n",
    "### O ISEScan foi desenvolvido usando Python3. Ele 1) escaneia o genoma (ou metagenoma) no formato fasta; 2) prevê/traduz (usando FragGeneScan) o genoma em proteoma; 3) pesquisa os pHMMs pré-construídos (modelos de Markov ocultos de perfil) de transposases (dois arquivos enviados com o ISEScan; clusters.faa.hmm e clusters.single.faa) contra o proteoma e identifica o gene da transposase no genoma; 4) então estende o gene da transposase identificado para os elementos IS (Sequência de Inserção) completos com base nas características comuns compartilhadas pelos elementos IS conhecidos relatados por literaturas e bancos de dados; 5) finalmente relata os elementos IS identificados em alguns arquivos de resultados (por exemplo, um arquivo contendo uma lista de elementos IS, um arquivo contendo sequências de elementos IS no formato fasta, um arquivo de anotação no formato GFF3)."
   ]
  },
  {
   "cell_type": "code",
   "execution_count": null,
   "metadata": {},
   "outputs": [],
   "source": [
    "# Encontrar o genoma do organismo de interesse\n",
    "find path -iname ID_NCBI*\n",
    "## EX:\n",
    "find /mnt/dados/victor_baca/incomplete_genomes -iname GCA_020980155.1_ASM2098015v1*\n",
    "\n",
    "# Parametros do isescan\n",
    "nohup isescan.py --seqfile /mnt/dados/victor_baca/incomplete_genomes/GCA_020980155.1_ASM2098015v1_genomic.fna --output /mnt/dados/victor_baca/outputs/isescan/GBS95 --nthread 32 &\n",
    "\n",
    "# --seqfile: arquivo de sequencia do genoma\n",
    "# --output: pasta de saida\n",
    "# --nthread: numero de threads, se nao for especificado, o padrao e 1\n",
    "\n",
    "# Visualizar as familias e quantidades de ISs encontrados\n",
    "tail -n +2 GCA_020980155.1_ASM2098015v1_genomic.fna.csv | cut -d ',' -f2 | sort | uniq -c | sort -nr"
   ]
  }
 ],
 "metadata": {
  "kernelspec": {
   "display_name": "Python 3",
   "language": "python",
   "name": "python3"
  },
  "language_info": {
   "name": "python",
   "version": "3.11.9"
  }
 },
 "nbformat": 4,
 "nbformat_minor": 2
}
