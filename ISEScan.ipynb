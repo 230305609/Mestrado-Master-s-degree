{
 "cells": [
  {
   "cell_type": "markdown",
   "metadata": {},
   "source": [
    "### ISEScan Analysis\n",
    "### https://github.com/xiezhq/ISEScan"
   ]
  },
  {
   "cell_type": "code",
   "execution_count": null,
   "metadata": {},
   "outputs": [],
   "source": [
    "# Encontrar o genoma do isolado\n",
    "find path -iname ID_NCBI*\n",
    "## EX:\n",
    "find /mnt/dados/victor_baca/incomplete_genomes -iname GCA_020980155.1_ASM2098015v1*\n",
    "\n",
    "# Parametros do isescan\n",
    "nohup isescan.py --seqfile /mnt/dados/victor_baca/incomplete_genomes/GCA_020980155.1_ASM2098015v1_genomic.fna --output /mnt/dados/victor_baca/outputs/isescan/GBS95 --nthread 32 &\n",
    "\n",
    "# --seqfile: arquivo de sequencia do genoma\n",
    "# --output: pasta de saida\n",
    "# --nthread: numero de threads, se nao for especificado, o padrao e 1\n",
    "\n",
    "# Visualizar as familias e quantidades de ISs encontrados\n",
    "tail -n +2 GCA_020980155.1_ASM2098015v1_genomic.fna.csv | cut -d ',' -f2 | sort | uniq -c | sort -nr"
   ]
  }
 ],
 "metadata": {
  "kernelspec": {
   "display_name": "Python 3",
   "language": "python",
   "name": "python3"
  },
  "language_info": {
   "name": "python",
   "version": "3.11.9"
  }
 },
 "nbformat": 4,
 "nbformat_minor": 2
}
