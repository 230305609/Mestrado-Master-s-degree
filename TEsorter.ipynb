{
 "cells": [
  {
   "cell_type": "markdown",
   "metadata": {},
   "source": [
    "# TEsorter - https://github.com/zhangrengang/TEsorter\n"
   ]
  },
  {
   "cell_type": "code",
   "execution_count": null,
   "metadata": {},
   "outputs": [],
   "source": [
    "# Apos ter baixado o TEsorter\n",
    "\n",
    "## 1 - Se entra na pasta TEsorter/TEsorter/database e baixa o arquivo Pfam-A.hmm.gz\n",
    "wget -c https://ftp.ebi.ac.uk/pub/databases/Pfam/current_release/Pfam-A.hmm.gz \n",
    "gunzip Pfam-A.hmm.gz # descompacta o arquivo\n",
    "sudo hmmpress # cria o banco de dados do HMM para o TEsorter rodar corretamente \n",
    "\n",
    "## 2 Entrar no link https://isfinder.biotoul.fr/scripts/search-db.php e baixar todos os fastas de origem Streptococcus agalactiae, dentro da mesma pasta especificada no 1 passo (TEsorter/TEsorter/database)\n",
    "### Para baixar os fastas de origem Streptococcus agalactiae, é necessário buscar (search) Streptococcus agalactiae e depois acessar o numero de acesso (Accession Number)\n",
    "\n",
    "# TEsorter\n",
    "## 1 - Entrar na pasta do TEsorter \n",
    "cd /mnt/dados/victor_baca/tools/TEsorter/TEsorter\n",
    "### E criar um diretório para os resultados\n",
    "mkdir outputs\n",
    "\n",
    "## 2 - Encontrar o arquivo fasta do ISEScan\n",
    "find path/strain/genoma -iname *.is.fna\n",
    "## EX:\n",
    "find /mnt/dados/victor_baca/outputs/isescan/01173/genoma -iname *.is.fna\n",
    "\n",
    "## 3 - Rodar o TEsorter\n",
    "TEsorter --db-hmm /mnt/dados/victor_baca/tools/TEsorter/TEsorter/database/Pfam-A.hmm -p 5 -cov 80 -eval 0.0001 -rule 80-80-80 path/file.fasta\n",
    "\n",
    "## --db-hmm: banco de dados de domínios de proteínas Pfam A (arquivo .hmm) \n",
    "## -p 5: número de threads\n",
    "## -cov 80: cobertura mínima do domínio\n",
    "## -eval 0.0001: valor de e-valor máximo\n",
    "## -rule 80-80-80: regra de classificação de TE\n",
    "\n",
    "### EX:\n",
    "TEsorter --db-hmm /mnt/dados/victor_baca/tools/TEsorter/TEsorter/database/Pfam-A.hmm -cov 80 -eval 0.0001 -rule 80-80-80 /mnt/dados/victor_baca/outputs/isescan/01173/genoma/GCF_013000945.1_ASM1300094v1_genomic.fna.is.fna\n",
    "\n",
    "\n",
    "# Visualizar os resultados\n",
    "## dom.tsv - valor da probabilidade de ser TE -> anotar se todos os valores são maiores que 0.8 e anotar o dominio (motivo catalítico) Pfam detectado (ex: DDE - HUH) das transposases\n",
    "\n",
    "FILE=\"01173.fasta.Pfam-A.dom.tsv\"; \\\n",
    "echo -e \"\\nDomínios Pfam detectados:\"; \\\n",
    "awk -F'\\t' 'NR>1 {split($1,a,\"|\"); print a[2]}' \"$FILE\" | sort | uniq -c; \\\n",
    "echo -e \"\\nVerificação de probability > 0.8:\"; \\\n",
    "awk -F'\\t' 'NR>1 {if ($5 <= 0.8) {print \"ALERTA: \" $1 \" → \" $5; count++}} END {if (count == 0) print \"Todos têm probability > 0.8 ✅\"}' \"$FILE\""
   ]
  }
 ],
 "metadata": {
  "language_info": {
   "name": "python"
  }
 },
 "nbformat": 4,
 "nbformat_minor": 2
}
