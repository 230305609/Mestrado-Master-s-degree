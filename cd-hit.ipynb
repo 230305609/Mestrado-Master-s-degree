{
 "cells": [
  {
   "cell_type": "markdown",
   "metadata": {},
   "source": [
    "### https://www.bioinformatics.org/cd-hit/\n"
   ]
  },
  {
   "cell_type": "code",
   "execution_count": null,
   "metadata": {},
   "outputs": [],
   "source": [
    "# Encontrar os arquivos fastas do ISEScan\n",
    "find path/strain/genoma/ -iname *.is.fna\n",
    "ex: -> find /mnt/dados/victor_baca/outputs/isescan/01173/genoma/ -iname *.is.fna"
    "\n",
    "# utilizar cd-hit para remover redundância dessas anotações\n",
    "cd-hit-est -i /mnt/dados/victor_baca/outputs/isescan/01173/genoma/GCF_013000945.1_ASM1300094v1_genomic.fna.is.fna -s 0.9 -g 1 -o 01173.fa &\n",
    "\n",
    "### -s 0.9 significa que as sequências devem ter 90% de identidade para serem consideradas redundantes\n",
    "### -g 1 = Ativa o modo \"acurado\", que é mais lento, mas mais preciso\n",
    "\n"
   ]
  }
 ],
 "metadata": {
  "kernelspec": {
   "display_name": "Python 3",
   "language": "python",
   "name": "python3"
  },
  "language_info": {
   "name": "python",
   "version": "3.11.9"
  }
 },
 "nbformat": 4,
 "nbformat_minor": 2
}
