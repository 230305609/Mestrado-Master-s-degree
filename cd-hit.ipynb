{
 "cells": [
  {
   "cell_type": "markdown",
   "metadata": {},
   "source": [
    "### https://www.bioinformatics.org/cd-hit/\n",
    "\n",
    "### O CD-HIT (Cluster Database at High Identity with Tolerance) é uma ferramenta bioinformática amplamente utilizada para reduzir redundância em conjuntos de dados de sequências biológicas (proteínas ou nucleotídeos). Ele agrupa sequências altamente similares em clusters, mantendo apenas uma sequência representativa de cada cluster. Isso é especialmente útil em estudos com elementos transponíveis (TEs), onde há muitas cópias repetidas ou variantes de uma mesma família."
   ]
  },
  {
   "cell_type": "code",
   "execution_count": null,
   "metadata": {},
   "outputs": [],
   "source": [
    "# Encontrar arquivos fastas do RM2 e EDTA\n",
    "find /mnt/dados/victor_baca/Genoma_Karina/RM2/Tou23_429.21/ -iname consensi.fa.classified\n",
    "find /mnt/dados/victor_baca/Genoma_Karina/EDTA/HN016/*fa.mod.EDTA.raw -iname Tou23_429.21.fa\n",
    "\n",
    "# unificar as anotações das ferramentas \n",
    "nohut \n",
    "cat /mnt/dados/victor_baca/Genoma_Karina/RM2/SA8/consensi.fa.classified /mnt/dados/victor_baca/Genoma_Karina/EDTA/SA8/SA8-UEL.fa.mod.EDTA.raw/SA8.fa > SA8.fasta &\n",
    "\n",
    "# utilizar cd-hit para remover redundância dessas anotações\n",
    "## Encontrar os arquivos input\n",
    "find /mnt/dados/victor_baca/outputs/outputscat -iname strain_name*\n",
    "find /mnt/dados/victor_baca/outputs/outputscat/gi -iname Tou23_429.21.*\n",
    "\n",
    "nohut \n",
    "cd-hit-est -i /mnt/dados/victor_baca/outputs/outputscat/gi/GBS95.fasta -s 0.9 -g 1 -o GBS95.fa &\n",
    "\n",
    "### -s 0.9 significa que as sequências devem ter 90% de identidade para serem consideradas redundantes\n",
    "### -g 1 = Ativa o modo \"acurado\", que é mais lento, mas mais preciso\n",
    "\n",
    "mkdir strain | mv strain.* strain"
   ]
  }
 ],
 "metadata": {
  "kernelspec": {
   "display_name": "Python 3",
   "language": "python",
   "name": "python3"
  },
  "language_info": {
   "name": "python",
   "version": "3.11.9"
  }
 },
 "nbformat": 4,
 "nbformat_minor": 2
}
