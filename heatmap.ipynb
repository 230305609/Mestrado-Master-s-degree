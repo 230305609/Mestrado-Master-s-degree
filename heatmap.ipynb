{
 "cells": [
  {
   "cell_type": "code",
   "execution_count": null,
   "metadata": {},
   "outputs": [],
   "source": [
    "import matplotlib as mpl\n",
    "import matplotlib.pyplot as plt\n",
    "import pandas as pd\n",
    "import seaborn as sns\n",
    "import seaborn as sns; sns.set_theme()\n",
    "import openpyxl # for reading xlsx files\n",
    "import csv # for reading csv files \n",
    "import numpy as np\n",
    "import seaborn as sns\n",
    "import matplotlib.pyplot as plt"
   ]
  },
  {
   "cell_type": "code",
   "execution_count": null,
   "metadata": {},
   "outputs": [],
   "source": [
    "# abrindo os CSVs dos resultados do RepeatMask e ISEscan de cada hospedeiro com todas as cepas na primeira coluna  \n",
    "\n",
    "ALL = pd.read_csv('/content/ALL.csv', sep=';').set_index('TEs') # set_index('TEs') define a coluna TEs como o índice do dataframe, ou seja, a coluna que será usada para identificar as linhas do dataframe. \n",
    "ALL"
   ]
  },
  {
   "cell_type": "markdown",
   "metadata": {},
   "source": [
    "# Aplicar transformação log10 (adicionando 1 para evitar log(0))\n",
    "ALL_log = np.log10(ALL + 1)"
   ]
  },
  {
   "cell_type": "code",
   "execution_count": null,
   "metadata": {},
   "outputs": [],
   "source": [
    "plt.figure(figsize=(40, 30))\n",
    "sns.set(font_scale=1.5)\n",
    "\n",
    "# Plotar o heatmap com ajustes de fonte\n",
    "ax = sns.heatmap(ALL_log, cmap=\"crest\")\n",
    "\n",
    "# Aumentar fonte dos rótulos dos eixos\n",
    "ax.set_yticklabels(ax.get_yticklabels(), \n",
    "                  fontsize=24, \n",
    "                  fontweight='bold',\n",
    "                  fontfamily='sans-serif')  # Rótulos TEs (eixo Y)\n",
    "\n",
    "ax.set_xticklabels(ax.get_xticklabels(), \n",
    "                  fontsize=48, \n",
    "                  fontweight='bold',\n",
    "                  fontfamily='sans-serif')  # Rótulos espécies (eixo X)\n",
    "\n",
    "\n",
    "plt.show()"
   ]
  }
 ],
 "metadata": {
  "language_info": {
   "name": "python"
  }
 },
 "nbformat": 4,
 "nbformat_minor": 2
}
